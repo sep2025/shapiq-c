{
 "cells": [
  {
   "cell_type": "markdown",
   "id": "685032c3-6dea-4de4-b48d-56c10d7da85d",
   "metadata": {},
   "source": [
    "# Threshold KNN‑Shapley Explainer  \n",
    "*A hands‑on guide*\n",
    "\n",
    "This notebook shows how to use the *Threshold KNN‑Shapley Explainer* to attribute predictions to individual training points when you the neighbourhood is restriced by a distance threshold **tau / τ**.  \n",
    "It complements the basic and weighted KNN explainers and is ideal for situations where “local” influence scores in dense data regions are desired.\n",
    "\n",
    "---\n",
    "\n",
    "## Table of Contents\n",
    "1. What problem does “threshold KNN‑Shapley” solve?\n",
    "2. How is it implemented?\n",
    "3. Quick‑start: explaining a scikit‑learn model  \n",
    "4. Visual walkthrough on a toy dataset\n",
    "5. Summary"
   ]
  },
  {
   "cell_type": "markdown",
   "id": "67b5242e-5798-47cb-9afa-09729c993efe",
   "metadata": {},
   "source": [
    "### 1  What problem does it solve?\n",
    "*Point Shapley* (sometimes called Instance Shapley) scores tell how much training point **i** sways the prediction for test point **x**.  \n",
    "\n",
    "The threshold variant uses a distance radius **τ** instead of a fixed **k** neighbours.  \n",
    "Only points with  \n",
    "$$\\left\\lVert x_i - x_{\\text{test}}\\right\\rVert \\le \\tau$$\n",
    "can vote in the majority prediction inside every coalition (of training points).\n",
    "\n",
    "Realistic use‑cases:\n",
    "* Local explanation in dense clusters (far‑away outliers won't influence vote).  \n",
    "* Streaming data: Future density changes effectively ignored.\n",
    "* Fairness audits: Checks if points within a small radius are dominating a decision."
   ]
  },
  {
   "cell_type": "markdown",
   "id": "ff6408c6-7c1b-4bc1-968c-08c165961b8c",
   "metadata": {},
   "source": [
    "### 2  How does the implementation work?\n",
    "```python\n",
    "from shapiq_student.threshold_knn_explainer import ThresholdKNNExplainer\n",
    "help(ThresholdKNNExplainer)"
   ]
  },
  {
   "cell_type": "markdown",
   "id": "7ff05421-7fa2-496a-812b-c12806bb832a",
   "metadata": {},
   "source": [
    "* Exact Shapley: enumerates *n_train !* permutations, although only feasible up to around 10 points.  \n",
    "* Only the points inside **τ** count for the majority vote. If no one is inside, payoff is set to 0.\n",
    "* Returns an *InteractionValues* object with: *values.shape == (n_train,)  &  index == 'SV'*."
   ]
  },
  {
   "cell_type": "markdown",
   "id": "7f5b075d-67b5-4c36-a787-dc3c4146ea4f",
   "metadata": {},
   "source": [
    "### 3  Quick‑start on Iris\n",
    "Below, nine training points from the Iris dataset so that the exact permutation‑based algorithm is still tractable (9 ! ≈ 3.6 × 10⁵).\n",
    "This keeps the demo snappy while showing the full, exact computation."
   ]
  },
  {
   "cell_type": "code",
   "execution_count": 1,
   "id": "c48feda4-d193-4f1e-a314-5c92b043016a",
   "metadata": {},
   "outputs": [
    {
     "name": "stdout",
     "output_type": "stream",
     "text": [
      "Shapley values (length = n_train = 9):\n",
      "[0.333 0.333 0.333 0.    0.    0.    0.    0.    0.   ]\n",
      "\n",
      "Sum of SVs: 1.0\n"
     ]
    }
   ],
   "source": [
    "from sklearn.datasets import load_iris\n",
    "from sklearn.neighbors import RadiusNeighborsClassifier\n",
    "import numpy as np\n",
    "\n",
    "X, y = load_iris(return_X_y=True)\n",
    "\n",
    "# Use the first 9 rows (3 from each class) so n_train! is manageable.\n",
    "idx_small = np.r_[0:3, 50:53, 100:103]\n",
    "X_small, y_small = X[idx_small], y[idx_small]\n",
    "\n",
    "tau = 0.8\n",
    "clf = RadiusNeighborsClassifier(radius=tau)\n",
    "clf.fit(X_small, y_small)\n",
    "\n",
    "x_test = X_small[0] + 0.05  # small perturbation of the first point\n",
    "\n",
    "from shapiq_student.threshold_knn_explainer import ThresholdKNNExplainer\n",
    "\n",
    "expl = ThresholdKNNExplainer(\n",
    "    model=clf,\n",
    "    data=X_small,\n",
    "    labels=y_small,\n",
    "    tau=tau,           # Matches the classifier's radius\n",
    "    class_index=None,  # If none, explain the model's predicted class\n",
    ")\n",
    "shap = expl.explain(x_test)\n",
    "\n",
    "print(\"Shapley values (length = n_train = 9):\")\n",
    "print(np.round(shap.values, 3))\n",
    "print(\"\\nSum of SVs:\", shap.values.sum())"
   ]
  },
  {
   "cell_type": "markdown",
   "id": "1c4af22f-c4ad-4fd3-a1e2-da381f113da8",
   "metadata": {},
   "source": [
    "### 4  Visual walkthrough on a 2‑D toy set\n",
    "A minimal example that can be visualized on a canvas."
   ]
  },
  {
   "cell_type": "code",
   "execution_count": 2,
   "id": "d379a36a-21f5-4b04-b8cd-a7079d199512",
   "metadata": {},
   "outputs": [
    {
     "data": {
      "image/png": "[encoded data removed]",
      "text/plain": [
       "<Figure size 400x400 with 1 Axes>"
      ]
     },
     "metadata": {},
     "output_type": "display_data"
    }
   ],
   "source": [
    "import matplotlib.pyplot as plt\n",
    "from sklearn.datasets import make_moons\n",
    "\n",
    "X2, y2 = make_moons(n_samples=8, noise=0.05, random_state=42)\n",
    "tau = 0.8\n",
    "rc = RadiusNeighborsClassifier(radius=tau).fit(X2, y2)\n",
    "\n",
    "x_star = np.array([[0.0, 0.6]])\n",
    "expl2 = ThresholdKNNExplainer(model=rc, data=X2, labels=y2, tau=tau)\n",
    "sv = expl2.explain(x_star).values\n",
    "\n",
    "# --- plot\n",
    "plt.figure(figsize=(4,4))\n",
    "colors = np.array([\"tab:blue\", \"tab:orange\"])\n",
    "plt.scatter(X2[:,0], X2[:,1], c=colors[y2], s=100, edgecolor=\"k\")\n",
    "plt.scatter(*x_star[0], c=\"red\", marker=\"x\", s=120, label=\"test point\")\n",
    "circle = plt.Circle(x_star[0], tau, color=\"grey\", fill=False, linestyle=\"--\")\n",
    "plt.gca().add_patch(circle)\n",
    "\n",
    "for i, (x_i, sv_i) in enumerate(zip(X2, sv)):\n",
    "    plt.text(x_i[0]+0.02, x_i[1]+0.02, f\"{sv_i:.2f}\", fontsize=8)\n",
    "\n",
    "plt.title(\"Instance Shapley values inside radius τ\")\n",
    "plt.legend()\n",
    "plt.axis(\"equal\")\n",
    "plt.show()"
   ]
  },
  {
   "cell_type": "markdown",
   "id": "4e064fc8-9fee-4dbd-b27e-2a2511d7b445",
   "metadata": {},
   "source": [
    "The blue dots vote for the test point’s class, while the orange dots vote against it.  \n",
    "As this is concerns a threshold, only the three dots inside the dashed radius of **τ = 0.8** are seen.  \n",
    "The two blue points raise the vote to the target class, so each gets a positive Shapley share of **0.5**.  \n",
    "The lone orange neighbour never secures the majority, so its Shapley value is **0**.  "
   ]
  },
  {
   "cell_type": "markdown",
   "id": "afaa5f66-e83d-4e31-98af-d05797185e92",
   "metadata": {},
   "source": [
    "### 5 Summary\n"
   ]
  },
  {
   "cell_type": "markdown",
   "id": "c78be2db-1e14-4657-aff4-10789bdd53e1",
   "metadata": {},
   "source": [
    "* **What was built** – A Threshold KNN‑Shapley explainer that attributes each training point’s influence on a prediction, but only counts neighbours within a distance **τ**.  \n",
    "* **How it works** – Enumerates all permutations of the training set (exact Shapley) and evaluates a 0/1 payoff based on the majority vote inside the radius.  \n",
    "* **Key takeaway** – Points inside τ share the Shapley credit; points outside get zero. Adjusting τ zooms the explanation lens in or out."
   ]
  }
 ],
 "metadata": {
  "kernelspec": {
   "display_name": "Python 3 (ipykernel)",
   "language": "python",
   "name": "python3"
  },
  "language_info": {
   "codemirror_mode": {
    "name": "ipython",
    "version": 3
   },
   "file_extension": ".py",
   "mimetype": "text/x-python",
   "name": "python",
   "nbconvert_exporter": "python",
   "pygments_lexer": "ipython3",
   "version": "3.12.10"
  }
 },
 "nbformat": 4,
 "nbformat_minor": 5
}
